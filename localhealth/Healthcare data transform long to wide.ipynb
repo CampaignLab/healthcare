{
 "cells": [
  {
   "cell_type": "code",
   "execution_count": 1,
   "metadata": {},
   "outputs": [],
   "source": [
    "import pandas as pd"
   ]
  },
  {
   "cell_type": "code",
   "execution_count": 2,
   "metadata": {},
   "outputs": [
    {
     "name": "stdout",
     "output_type": "stream",
     "text": [
      "'Convert long healthcare data to wide.ipynb'\r\n",
      "'LE2018 ward-by-ward results (updated 08.05.18)_ID.xlsx'\r\n",
      " LocalHealth_All_indicators_Ward_data.csv\r\n",
      " LocalHealth_All_indicators_Ward_data.xlsb\r\n",
      "'Local Health Metadata File Nov 2017.xlsx'\r\n",
      " localhealth_wide.csv\r\n",
      " merged_health_results.csv\r\n",
      " Metadata_flat_file_PHOLIO_17082018.xls\r\n",
      " Readme.md\r\n",
      " result_by_ward_ID_trimmed.csv\r\n",
      " Untitled.ipynb\r\n"
     ]
    }
   ],
   "source": [
    "!ls"
   ]
  },
  {
   "cell_type": "code",
   "execution_count": 15,
   "metadata": {},
   "outputs": [],
   "source": [
    "ward_results = pd.read_csv(\"result_by_ward_ID_trimmed.csv\")"
   ]
  },
  {
   "cell_type": "code",
   "execution_count": 16,
   "metadata": {},
   "outputs": [
    {
     "data": {
      "text/plain": [
       "Index(['Authority', 'Area ID', 'Ward', '18_pct_Con', '18_pct_Lab',\n",
       "       '18_pct_LDem', '18_pct_UKIP', '18_pct_Grn', '18_pct_Ind', '18_pct_Oth',\n",
       "       'delta_', 'delta_Con', 'delta_Lab', 'delta_LDem', 'delta_UKIP',\n",
       "       'delta_Grn', 'delta_Ind', 'delta_Oth', '14_PCT_Con', '14_PCT_Lab',\n",
       "       '14_PCT_LDem', '14_PCT_UKIP', '14_PCT_Grn', '14_PCT_Ind', '14_PCT_Oth',\n",
       "       'Unnamed: 25'],\n",
       "      dtype='object')"
      ]
     },
     "execution_count": 16,
     "metadata": {},
     "output_type": "execute_result"
    }
   ],
   "source": [
    "ward_results.columns"
   ]
  },
  {
   "cell_type": "code",
   "execution_count": 18,
   "metadata": {},
   "outputs": [],
   "source": [
    "ward_results = ward_results[['Authority', 'Ward', '18_pct_Con', '18_pct_Lab',\n",
    "       '18_pct_LDem', '18_pct_UKIP', '18_pct_Grn', '18_pct_Ind', '18_pct_Oth',\n",
    "       'delta_', 'delta_Con', 'delta_Lab', 'delta_LDem', 'delta_UKIP',\n",
    "       'delta_Grn', 'delta_Ind', 'delta_Oth', '14_PCT_Con', '14_PCT_Lab',\n",
    "       '14_PCT_LDem', '14_PCT_UKIP', '14_PCT_Grn', '14_PCT_Ind', '14_PCT_Oth']]"
   ]
  },
  {
   "cell_type": "code",
   "execution_count": 104,
   "metadata": {},
   "outputs": [
    {
     "name": "stderr",
     "output_type": "stream",
     "text": [
      "/home/durand/Stuff/Anaconda/lib/python3.7/site-packages/IPython/core/interactiveshell.py:2785: DtypeWarning: Columns (11) have mixed types. Specify dtype option on import or set low_memory=False.\n",
      "  interactivity=interactivity, compiler=compiler, result=result)\n"
     ]
    }
   ],
   "source": [
    "health_results = pd.read_csv(\"LocalHealth_All_indicators_Ward_data.csv\")"
   ]
  },
  {
   "cell_type": "code",
   "execution_count": 107,
   "metadata": {
    "scrolled": true
   },
   "outputs": [],
   "source": [
    "health_results[\"Indicator\"] =  health_results[\"Indicator Name\"] + \"_\" + health_results[\"Sex\"]"
   ]
  },
  {
   "cell_type": "code",
   "execution_count": 108,
   "metadata": {
    "scrolled": false
   },
   "outputs": [],
   "source": [
    "health_results = health_results.loc[health_results[\"Area Type\"] == \"Ward\"]"
   ]
  },
  {
   "cell_type": "code",
   "execution_count": 112,
   "metadata": {
    "scrolled": true
   },
   "outputs": [],
   "source": [
    "wards = health_results[[\"Area Code\", \"Area Name\", \"Parent Name\"]].drop_duplicates()"
   ]
  },
  {
   "cell_type": "code",
   "execution_count": 113,
   "metadata": {
    "scrolled": true
   },
   "outputs": [],
   "source": [
    "health_results = health_results[[\"Area Name\", \"Area Code\", \"Parent Name\", \"Indicator\", \"Value\", 'Time period']]\n"
   ]
  },
  {
   "cell_type": "code",
   "execution_count": 114,
   "metadata": {
    "scrolled": true
   },
   "outputs": [],
   "source": [
    "health_results = health_results.drop_duplicates()"
   ]
  },
  {
   "cell_type": "code",
   "execution_count": 115,
   "metadata": {
    "scrolled": true
   },
   "outputs": [],
   "source": [
    "health_results = health_results.pivot(index=\"Area Code\", columns=\"Indicator\", values=\"Value\")"
   ]
  },
  {
   "cell_type": "code",
   "execution_count": 118,
   "metadata": {},
   "outputs": [],
   "source": [
    "health_results = wards.join(health_results, on=\"Area Code\")"
   ]
  },
  {
   "cell_type": "code",
   "execution_count": 121,
   "metadata": {},
   "outputs": [],
   "source": [
    "health_results.to_csv(\"localhealth_wide.csv\", index=False)"
   ]
  },
  {
   "cell_type": "code",
   "execution_count": 119,
   "metadata": {},
   "outputs": [
    {
     "name": "stdout",
     "output_type": "stream",
     "text": [
      "'Convert long healthcare data to wide.ipynb'\r\n",
      "'LE2018 ward-by-ward results (updated 08.05.18)_ID.xlsx'\r\n",
      " LocalHealth_All_indicators_Ward_data.csv\r\n",
      " LocalHealth_All_indicators_Ward_data.xlsb\r\n",
      "'Local Health Metadata File Nov 2017.xlsx'\r\n",
      " localhealth_wide.csv\r\n",
      " merged_health_results.csv\r\n",
      " Metadata_flat_file_PHOLIO_17082018.xls\r\n",
      " Readme.md\r\n",
      " result_by_ward_ID_trimmed.csv\r\n",
      " Untitled.ipynb\r\n"
     ]
    }
   ],
   "source": [
    "!ls"
   ]
  },
  {
   "cell_type": "code",
   "execution_count": null,
   "metadata": {},
   "outputs": [],
   "source": [
    "ward_results = pd.read_excel(\"LE2018 ward-by-ward results (updated 08.05.18)_ID.xlsx\")"
   ]
  }
 ],
 "metadata": {
  "kernelspec": {
   "display_name": "Python 3",
   "language": "python",
   "name": "python3"
  },
  "language_info": {
   "codemirror_mode": {
    "name": "ipython",
    "version": 3
   },
   "file_extension": ".py",
   "mimetype": "text/x-python",
   "name": "python",
   "nbconvert_exporter": "python",
   "pygments_lexer": "ipython3",
   "version": "3.7.0"
  }
 },
 "nbformat": 4,
 "nbformat_minor": 2
}
