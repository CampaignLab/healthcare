{
 "cells": [
  {
   "cell_type": "markdown",
   "metadata": {
    "toc": true
   },
   "source": [
    "<h1>Table of Contents<span class=\"tocSkip\"></span></h1>\n",
    "<div class=\"toc\" style=\"margin-top: 1em;\"><ul class=\"toc-item\"></ul></div>"
   ]
  },
  {
   "cell_type": "code",
   "execution_count": 33,
   "metadata": {},
   "outputs": [],
   "source": [
    "library(dplyr)\n",
    "library(tidyr)\n",
    "library(plotly)\n",
    "library(readr)"
   ]
  },
  {
   "cell_type": "code",
   "execution_count": 6,
   "metadata": {},
   "outputs": [
    {
     "name": "stderr",
     "output_type": "stream",
     "text": [
      "Parsed with column specification:\n",
      "cols(\n",
      "  .default = col_character(),\n",
      "  `Indicator ID` = col_double(),\n",
      "  `Time period` = col_double(),\n",
      "  Value = col_double(),\n",
      "  `Lower CI 95.0 limit` = col_logical(),\n",
      "  `Upper CI 95.0 limit` = col_logical(),\n",
      "  `Lower CI 99.8 limit` = col_logical(),\n",
      "  `Upper CI 99.8 limit` = col_logical(),\n",
      "  Count = col_logical(),\n",
      "  Denominator = col_logical(),\n",
      "  `Time period Sortable` = col_double()\n",
      ")\n",
      "See spec(...) for full column specifications.\n",
      "Warning message:\n",
      "“2368174 parsing failures.\n",
      " row                 col           expected      actual                                       file\n",
      "7793 Lower CI 95.0 limit 1/0/T/F/TRUE/FALSE 18.98178882 'LocalHealth_All_indicators_Ward_data.csv'\n",
      "7793 Upper CI 95.0 limit 1/0/T/F/TRUE/FALSE 19.00256151 'LocalHealth_All_indicators_Ward_data.csv'\n",
      "7793 Count               1/0/T/F/TRUE/FALSE 10405114    'LocalHealth_All_indicators_Ward_data.csv'\n",
      "7793 Denominator         1/0/T/F/TRUE/FALSE 54786327    'LocalHealth_All_indicators_Ward_data.csv'\n",
      "7794 Count               1/0/T/F/TRUE/FALSE 1055272     'LocalHealth_All_indicators_Ward_data.csv'\n",
      ".... ................... .................. ........... ..........................................\n",
      "See problems(...) for more details.\n",
      "”"
     ]
    }
   ],
   "source": [
    "local_health <- read_csv(\"LocalHealth_All_indicators_Ward_data.csv\")"
   ]
  },
  {
   "cell_type": "code",
   "execution_count": 31,
   "metadata": {},
   "outputs": [
    {
     "name": "stdout",
     "output_type": "stream",
     "text": [
      "Classes ‘tbl_df’, ‘tbl’ and 'data.frame':\t553886 obs. of  24 variables:\n",
      " $ Indicator ID                                       : num  93225 93225 93225 93225 93225 ...\n",
      " $ Indicator Name                                     : chr  \"Total population\" \"Total population\" \"Total population\" \"Total population\" ...\n",
      " $ Parent Code                                        : chr  NA NA NA NA ...\n",
      " $ Parent Name                                        : chr  NA NA NA NA ...\n",
      " $ Area Code                                          : chr  \"E92000001\" \"E92000001\" \"E92000001\" \"E92000001\" ...\n",
      " $ Area Name                                          : chr  \"England\" \"England\" \"England\" \"England\" ...\n",
      " $ Area Type                                          : chr  \"Country\" \"Country\" \"Country\" \"Country\" ...\n",
      " $ Sex                                                : chr  \"Persons\" \"Persons\" \"Persons\" \"Persons\" ...\n",
      " $ Age                                                : chr  \"All ages\" \"All ages\" \"All ages\" \"All ages\" ...\n",
      " $ Category Type                                      : chr  NA \"County & UA deprivation deciles in England (IMD2015)\" \"County & UA deprivation deciles in England (IMD2015)\" \"County & UA deprivation deciles in England (IMD2015)\" ...\n",
      " $ Category                                           : chr  NA \"Most deprived decile (IMD2015)\" \"Second most deprived decile (IMD2015)\" \"Third more deprived decile (IMD2015)\" ...\n",
      " $ Time period                                        : num  2015 2015 2015 2015 2015 ...\n",
      " $ Value                                              : num  54786327 NA NA NA NA ...\n",
      " $ Lower CI 95.0 limit                                : logi  NA NA NA NA NA NA ...\n",
      " $ Upper CI 95.0 limit                                : logi  NA NA NA NA NA NA ...\n",
      " $ Lower CI 99.8 limit                                : logi  NA NA NA NA NA NA ...\n",
      " $ Upper CI 99.8 limit                                : logi  NA NA NA NA NA NA ...\n",
      " $ Count                                              : logi  NA NA NA NA NA NA ...\n",
      " $ Denominator                                        : logi  NA NA NA NA NA NA ...\n",
      " $ Value note                                         : chr  NA \"Aggregated from all known lower geography values\" \"Aggregated from all known lower geography values\" \"Aggregated from all known lower geography values\" ...\n",
      " $ Recent Trend                                       : chr  \"Cannot be calculated\" \"Cannot be calculated\" \"Cannot be calculated\" \"Cannot be calculated\" ...\n",
      " $ Compared to England value or percentiles           : chr  \"Not compared\" \"Not compared\" \"Not compared\" \"Not compared\" ...\n",
      " $ Compared to subnational parent value or percentiles: chr  \"Not compared\" \"Not compared\" \"Not compared\" \"Not compared\" ...\n",
      " $ Time period Sortable                               : num  20150000 20150000 20150000 20150000 20150000 ...\n",
      " - attr(*, \"problems\")=Classes ‘tbl_df’, ‘tbl’ and 'data.frame':\t2368174 obs. of  5 variables:\n",
      "  ..$ row     : int  7793 7793 7793 7793 7794 7794 7795 7795 7796 7796 ...\n",
      "  ..$ col     : chr  \"Lower CI 95.0 limit\" \"Upper CI 95.0 limit\" \"Count\" \"Denominator\" ...\n",
      "  ..$ expected: chr  \"1/0/T/F/TRUE/FALSE\" \"1/0/T/F/TRUE/FALSE\" \"1/0/T/F/TRUE/FALSE\" \"1/0/T/F/TRUE/FALSE\" ...\n",
      "  ..$ actual  : chr  \"18.98178882\" \"19.00256151\" \"10405114\" \"54786327\" ...\n",
      "  ..$ file    : chr  \"'LocalHealth_All_indicators_Ward_data.csv'\" \"'LocalHealth_All_indicators_Ward_data.csv'\" \"'LocalHealth_All_indicators_Ward_data.csv'\" \"'LocalHealth_All_indicators_Ward_data.csv'\" ...\n",
      " - attr(*, \"spec\")=\n",
      "  .. cols(\n",
      "  ..   `Indicator ID` = col_double(),\n",
      "  ..   `Indicator Name` = col_character(),\n",
      "  ..   `Parent Code` = col_character(),\n",
      "  ..   `Parent Name` = col_character(),\n",
      "  ..   `Area Code` = col_character(),\n",
      "  ..   `Area Name` = col_character(),\n",
      "  ..   `Area Type` = col_character(),\n",
      "  ..   Sex = col_character(),\n",
      "  ..   Age = col_character(),\n",
      "  ..   `Category Type` = col_character(),\n",
      "  ..   Category = col_character(),\n",
      "  ..   `Time period` = col_double(),\n",
      "  ..   Value = col_double(),\n",
      "  ..   `Lower CI 95.0 limit` = col_logical(),\n",
      "  ..   `Upper CI 95.0 limit` = col_logical(),\n",
      "  ..   `Lower CI 99.8 limit` = col_logical(),\n",
      "  ..   `Upper CI 99.8 limit` = col_logical(),\n",
      "  ..   Count = col_logical(),\n",
      "  ..   Denominator = col_logical(),\n",
      "  ..   `Value note` = col_character(),\n",
      "  ..   `Recent Trend` = col_character(),\n",
      "  ..   `Compared to England value or percentiles` = col_character(),\n",
      "  ..   `Compared to subnational parent value or percentiles` = col_character(),\n",
      "  ..   `Time period Sortable` = col_double()\n",
      "  .. )\n"
     ]
    }
   ],
   "source": [
    "local_health %>% str()"
   ]
  },
  {
   "cell_type": "code",
   "execution_count": 53,
   "metadata": {
    "scrolled": true
   },
   "outputs": [],
   "source": [
    "local_health %>%\n",
    "    filter(`Area Type` == \"Ward\") %>%\n",
    "    select(`Area Name`, `Area Code`, `Indicator Name`, `Value`) %>%\n",
    "    group_by(`Indicator Name`) %>%\n",
    "    mutate(id=1:n()) %>%\n",
    "    spread(key=`Indicator Name`, value = `Value`) %>%\n",
    "    select(-id) -> local_health_wide"
   ]
  },
  {
   "cell_type": "code",
   "execution_count": 59,
   "metadata": {},
   "outputs": [],
   "source": [
    "local_health_wide %>% write.csv(.,file=\"localhealth_wide.csv\", row.names=F)"
   ]
  }
 ],
 "metadata": {
  "kernelspec": {
   "display_name": "R",
   "language": "R",
   "name": "ir"
  },
  "language_info": {
   "codemirror_mode": "r",
   "file_extension": ".r",
   "mimetype": "text/x-r-source",
   "name": "R",
   "pygments_lexer": "r",
   "version": "3.5.1"
  },
  "toc": {
   "nav_menu": {},
   "number_sections": true,
   "sideBar": false,
   "skip_h1_title": true,
   "toc_cell": true,
   "toc_position": {},
   "toc_section_display": "block",
   "toc_window_display": true
  }
 },
 "nbformat": 4,
 "nbformat_minor": 2
}
